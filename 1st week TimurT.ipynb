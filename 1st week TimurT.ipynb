{
 "cells": [
  {
   "cell_type": "markdown",
   "metadata": {},
   "source": [
    "### Install cryptocompare"
   ]
  },
  {
   "cell_type": "code",
   "execution_count": null,
   "metadata": {},
   "outputs": [],
   "source": [
    "# pip install cryptocompare"
   ]
  },
  {
   "cell_type": "code",
   "execution_count": 1,
   "metadata": {},
   "outputs": [],
   "source": [
    "#conda install pytorch torchvision torchaudio -c pytorch"
   ]
  },
  {
   "cell_type": "code",
   "execution_count": 1,
   "metadata": {},
   "outputs": [],
   "source": [
    "import cryptocompare as cc\n",
    "import json\n",
    "import requests\n",
    "import datetime\n",
    "import numpy as np\n",
    "import pandas as pd\n",
    "import matplotlib.pyplot as plt\n",
    "import torch\n",
    "from sklearn.decomposition import PCA"
   ]
  },
  {
   "cell_type": "markdown",
   "metadata": {},
   "source": [
    "### Auth cryptocompare"
   ]
  },
  {
   "cell_type": "code",
   "execution_count": 2,
   "metadata": {},
   "outputs": [],
   "source": [
    "CRYPTOCOMPARE_API_KEY = 'c19ae548abc855f895ee99bbdacb341095f2ab09e8a54a09eafd15e3ee215258'"
   ]
  },
  {
   "cell_type": "code",
   "execution_count": 3,
   "metadata": {},
   "outputs": [],
   "source": [
    "ccObject = cc.cryptocompare._set_api_key_parameter(CRYPTOCOMPARE_API_KEY)"
   ]
  },
  {
   "cell_type": "markdown",
   "metadata": {},
   "source": [
    "### Function which get name of pair, number of days before today's date. Function return dataset with crypto pair"
   ]
  },
  {
   "cell_type": "code",
   "execution_count": 4,
   "metadata": {},
   "outputs": [],
   "source": [
    "def PairData(type1, type2, lastDate, days, exchangeName):\n",
    "\n",
    "    test= cc.get_historical_price_day(type1, type2, limit=days, exchange=exchangeName, toTs=lastDay)\n",
    "    \n",
    "    df1 = pd.DataFrame.from_dict(test)\n",
    "    \n",
    "    df1['time'] = pd.to_datetime(df1['time'], unit='s')\n",
    "    \n",
    "    df1 = df1.set_index(pd.DatetimeIndex(data=df1['time'], name='Date'))\n",
    "    \n",
    "    df1 = df1.drop(labels=['time', 'conversionType', 'conversionSymbol', 'volumefrom',\n",
    "                          'volumeto', 'close'], axis=1)\n",
    "    \n",
    "    column_names = ['open', 'high', 'low']\n",
    "    \n",
    "    df1 = df1.reindex(columns=column_names)\n",
    "    \n",
    "    df1 = df1.rename(columns={'open':'Open {name}'.format(name=type1), 'high':'High {name}'.format(name=type1), 'low':'Low {name}'.format(name=type1)})\n",
    "    \n",
    "    df1 = df1.T\n",
    "    \n",
    "    \n",
    "    \n",
    "    return df1\n"
   ]
  },
  {
   "cell_type": "code",
   "execution_count": 5,
   "metadata": {},
   "outputs": [],
   "source": [
    "lastDay = datetime.datetime.today()"
   ]
  },
  {
   "cell_type": "code",
   "execution_count": 6,
   "metadata": {},
   "outputs": [
    {
     "data": {
      "text/html": [
       "<div>\n",
       "<style scoped>\n",
       "    .dataframe tbody tr th:only-of-type {\n",
       "        vertical-align: middle;\n",
       "    }\n",
       "\n",
       "    .dataframe tbody tr th {\n",
       "        vertical-align: top;\n",
       "    }\n",
       "\n",
       "    .dataframe thead th {\n",
       "        text-align: right;\n",
       "    }\n",
       "</style>\n",
       "<table border=\"1\" class=\"dataframe\">\n",
       "  <thead>\n",
       "    <tr style=\"text-align: right;\">\n",
       "      <th>Date</th>\n",
       "      <th>2021-08-03</th>\n",
       "      <th>2021-08-04</th>\n",
       "      <th>2021-08-05</th>\n",
       "      <th>2021-08-06</th>\n",
       "      <th>2021-08-07</th>\n",
       "      <th>2021-08-08</th>\n",
       "      <th>2021-08-09</th>\n",
       "      <th>2021-08-10</th>\n",
       "      <th>2021-08-11</th>\n",
       "      <th>2021-08-12</th>\n",
       "      <th>...</th>\n",
       "      <th>2021-09-23</th>\n",
       "      <th>2021-09-24</th>\n",
       "      <th>2021-09-25</th>\n",
       "      <th>2021-09-26</th>\n",
       "      <th>2021-09-27</th>\n",
       "      <th>2021-09-28</th>\n",
       "      <th>2021-09-29</th>\n",
       "      <th>2021-09-30</th>\n",
       "      <th>2021-10-01</th>\n",
       "      <th>2021-10-02</th>\n",
       "    </tr>\n",
       "  </thead>\n",
       "  <tbody>\n",
       "    <tr>\n",
       "      <th>Open BTC</th>\n",
       "      <td>39158.53</td>\n",
       "      <td>38189.30</td>\n",
       "      <td>39738.56</td>\n",
       "      <td>40888.18</td>\n",
       "      <td>42852.18</td>\n",
       "      <td>44617.96</td>\n",
       "      <td>43827.75</td>\n",
       "      <td>46292.61</td>\n",
       "      <td>45601.03</td>\n",
       "      <td>45556.69</td>\n",
       "      <td>...</td>\n",
       "      <td>43576.15</td>\n",
       "      <td>44893.87</td>\n",
       "      <td>42848.41</td>\n",
       "      <td>42721.91</td>\n",
       "      <td>43201.79</td>\n",
       "      <td>42187.51</td>\n",
       "      <td>41056.79</td>\n",
       "      <td>41539.43</td>\n",
       "      <td>43829.34</td>\n",
       "      <td>48164.35</td>\n",
       "    </tr>\n",
       "    <tr>\n",
       "      <th>High BTC</th>\n",
       "      <td>39779.45</td>\n",
       "      <td>39961.11</td>\n",
       "      <td>41409.14</td>\n",
       "      <td>43363.62</td>\n",
       "      <td>44731.51</td>\n",
       "      <td>45310.33</td>\n",
       "      <td>46476.01</td>\n",
       "      <td>46707.56</td>\n",
       "      <td>46763.89</td>\n",
       "      <td>46214.21</td>\n",
       "      <td>...</td>\n",
       "      <td>44994.17</td>\n",
       "      <td>45143.18</td>\n",
       "      <td>42992.94</td>\n",
       "      <td>43928.49</td>\n",
       "      <td>44360.41</td>\n",
       "      <td>42781.24</td>\n",
       "      <td>42603.18</td>\n",
       "      <td>44106.60</td>\n",
       "      <td>48470.13</td>\n",
       "      <td>48244.05</td>\n",
       "    </tr>\n",
       "    <tr>\n",
       "      <th>Low BTC</th>\n",
       "      <td>37679.22</td>\n",
       "      <td>37526.24</td>\n",
       "      <td>37330.04</td>\n",
       "      <td>39895.05</td>\n",
       "      <td>42473.57</td>\n",
       "      <td>43300.59</td>\n",
       "      <td>42818.07</td>\n",
       "      <td>44663.20</td>\n",
       "      <td>45360.51</td>\n",
       "      <td>43786.40</td>\n",
       "      <td>...</td>\n",
       "      <td>43108.42</td>\n",
       "      <td>40807.20</td>\n",
       "      <td>41710.08</td>\n",
       "      <td>40825.40</td>\n",
       "      <td>42139.24</td>\n",
       "      <td>40924.13</td>\n",
       "      <td>40790.67</td>\n",
       "      <td>41436.79</td>\n",
       "      <td>43304.82</td>\n",
       "      <td>47468.49</td>\n",
       "    </tr>\n",
       "  </tbody>\n",
       "</table>\n",
       "<p>3 rows × 61 columns</p>\n",
       "</div>"
      ],
      "text/plain": [
       "Date      2021-08-03  2021-08-04  2021-08-05  2021-08-06  2021-08-07  \\\n",
       "Open BTC    39158.53    38189.30    39738.56    40888.18    42852.18   \n",
       "High BTC    39779.45    39961.11    41409.14    43363.62    44731.51   \n",
       "Low BTC     37679.22    37526.24    37330.04    39895.05    42473.57   \n",
       "\n",
       "Date      2021-08-08  2021-08-09  2021-08-10  2021-08-11  2021-08-12  ...  \\\n",
       "Open BTC    44617.96    43827.75    46292.61    45601.03    45556.69  ...   \n",
       "High BTC    45310.33    46476.01    46707.56    46763.89    46214.21  ...   \n",
       "Low BTC     43300.59    42818.07    44663.20    45360.51    43786.40  ...   \n",
       "\n",
       "Date      2021-09-23  2021-09-24  2021-09-25  2021-09-26  2021-09-27  \\\n",
       "Open BTC    43576.15    44893.87    42848.41    42721.91    43201.79   \n",
       "High BTC    44994.17    45143.18    42992.94    43928.49    44360.41   \n",
       "Low BTC     43108.42    40807.20    41710.08    40825.40    42139.24   \n",
       "\n",
       "Date      2021-09-28  2021-09-29  2021-09-30  2021-10-01  2021-10-02  \n",
       "Open BTC    42187.51    41056.79    41539.43    43829.34    48164.35  \n",
       "High BTC    42781.24    42603.18    44106.60    48470.13    48244.05  \n",
       "Low BTC     40924.13    40790.67    41436.79    43304.82    47468.49  \n",
       "\n",
       "[3 rows x 61 columns]"
      ]
     },
     "execution_count": 6,
     "metadata": {},
     "output_type": "execute_result"
    }
   ],
   "source": [
    "df = PairData('BTC', 'USD', lastDay, 60, 'CCCAGG')\n",
    "df.head()"
   ]
  },
  {
   "cell_type": "code",
   "execution_count": 7,
   "metadata": {},
   "outputs": [],
   "source": [
    "df = pd.DataFrame(data=df)"
   ]
  },
  {
   "cell_type": "code",
   "execution_count": 8,
   "metadata": {},
   "outputs": [
    {
     "data": {
      "text/plain": [
       "Index(['Open BTC', 'High BTC', 'Low BTC'], dtype='object')"
      ]
     },
     "execution_count": 8,
     "metadata": {},
     "output_type": "execute_result"
    }
   ],
   "source": [
    "df.index"
   ]
  },
  {
   "cell_type": "code",
   "execution_count": 9,
   "metadata": {},
   "outputs": [],
   "source": [
    "pca = PCA(n_components=3, svd_solver='full')"
   ]
  },
  {
   "cell_type": "code",
   "execution_count": 17,
   "metadata": {},
   "outputs": [
    {
     "ename": "ValueError",
     "evalue": "could not convert string to float: 'Open BTC'",
     "output_type": "error",
     "traceback": [
      "\u001b[0;31m---------------------------------------------------------------------------\u001b[0m",
      "\u001b[0;31mValueError\u001b[0m                                Traceback (most recent call last)",
      "\u001b[0;32m<ipython-input-17-e10c37c58dd0>\u001b[0m in \u001b[0;36m<module>\u001b[0;34m\u001b[0m\n\u001b[0;32m----> 1\u001b[0;31m \u001b[0mpca\u001b[0m\u001b[0;34m.\u001b[0m\u001b[0mfit\u001b[0m\u001b[0;34m(\u001b[0m\u001b[0mcrypto100\u001b[0m\u001b[0;34m)\u001b[0m\u001b[0;34m\u001b[0m\u001b[0;34m\u001b[0m\u001b[0m\n\u001b[0m",
      "\u001b[0;32m/opt/anaconda3/lib/python3.8/site-packages/sklearn/decomposition/_pca.py\u001b[0m in \u001b[0;36mfit\u001b[0;34m(self, X, y)\u001b[0m\n\u001b[1;32m    349\u001b[0m             \u001b[0mReturns\u001b[0m \u001b[0mthe\u001b[0m \u001b[0minstance\u001b[0m \u001b[0mitself\u001b[0m\u001b[0;34m.\u001b[0m\u001b[0;34m\u001b[0m\u001b[0;34m\u001b[0m\u001b[0m\n\u001b[1;32m    350\u001b[0m         \"\"\"\n\u001b[0;32m--> 351\u001b[0;31m         \u001b[0mself\u001b[0m\u001b[0;34m.\u001b[0m\u001b[0m_fit\u001b[0m\u001b[0;34m(\u001b[0m\u001b[0mX\u001b[0m\u001b[0;34m)\u001b[0m\u001b[0;34m\u001b[0m\u001b[0;34m\u001b[0m\u001b[0m\n\u001b[0m\u001b[1;32m    352\u001b[0m         \u001b[0;32mreturn\u001b[0m \u001b[0mself\u001b[0m\u001b[0;34m\u001b[0m\u001b[0;34m\u001b[0m\u001b[0m\n\u001b[1;32m    353\u001b[0m \u001b[0;34m\u001b[0m\u001b[0m\n",
      "\u001b[0;32m/opt/anaconda3/lib/python3.8/site-packages/sklearn/decomposition/_pca.py\u001b[0m in \u001b[0;36m_fit\u001b[0;34m(self, X)\u001b[0m\n\u001b[1;32m    395\u001b[0m                             'TruncatedSVD for a possible alternative.')\n\u001b[1;32m    396\u001b[0m \u001b[0;34m\u001b[0m\u001b[0m\n\u001b[0;32m--> 397\u001b[0;31m         X = self._validate_data(X, dtype=[np.float64, np.float32],\n\u001b[0m\u001b[1;32m    398\u001b[0m                                 ensure_2d=True, copy=self.copy)\n\u001b[1;32m    399\u001b[0m \u001b[0;34m\u001b[0m\u001b[0m\n",
      "\u001b[0;32m/opt/anaconda3/lib/python3.8/site-packages/sklearn/base.py\u001b[0m in \u001b[0;36m_validate_data\u001b[0;34m(self, X, y, reset, validate_separately, **check_params)\u001b[0m\n\u001b[1;32m    418\u001b[0m                     \u001b[0;34mf\"requires y to be passed, but the target y is None.\"\u001b[0m\u001b[0;34m\u001b[0m\u001b[0;34m\u001b[0m\u001b[0m\n\u001b[1;32m    419\u001b[0m                 )\n\u001b[0;32m--> 420\u001b[0;31m             \u001b[0mX\u001b[0m \u001b[0;34m=\u001b[0m \u001b[0mcheck_array\u001b[0m\u001b[0;34m(\u001b[0m\u001b[0mX\u001b[0m\u001b[0;34m,\u001b[0m \u001b[0;34m**\u001b[0m\u001b[0mcheck_params\u001b[0m\u001b[0;34m)\u001b[0m\u001b[0;34m\u001b[0m\u001b[0;34m\u001b[0m\u001b[0m\n\u001b[0m\u001b[1;32m    421\u001b[0m             \u001b[0mout\u001b[0m \u001b[0;34m=\u001b[0m \u001b[0mX\u001b[0m\u001b[0;34m\u001b[0m\u001b[0;34m\u001b[0m\u001b[0m\n\u001b[1;32m    422\u001b[0m         \u001b[0;32melse\u001b[0m\u001b[0;34m:\u001b[0m\u001b[0;34m\u001b[0m\u001b[0;34m\u001b[0m\u001b[0m\n",
      "\u001b[0;32m/opt/anaconda3/lib/python3.8/site-packages/sklearn/utils/validation.py\u001b[0m in \u001b[0;36minner_f\u001b[0;34m(*args, **kwargs)\u001b[0m\n\u001b[1;32m     71\u001b[0m                           FutureWarning)\n\u001b[1;32m     72\u001b[0m         \u001b[0mkwargs\u001b[0m\u001b[0;34m.\u001b[0m\u001b[0mupdate\u001b[0m\u001b[0;34m(\u001b[0m\u001b[0;34m{\u001b[0m\u001b[0mk\u001b[0m\u001b[0;34m:\u001b[0m \u001b[0marg\u001b[0m \u001b[0;32mfor\u001b[0m \u001b[0mk\u001b[0m\u001b[0;34m,\u001b[0m \u001b[0marg\u001b[0m \u001b[0;32min\u001b[0m \u001b[0mzip\u001b[0m\u001b[0;34m(\u001b[0m\u001b[0msig\u001b[0m\u001b[0;34m.\u001b[0m\u001b[0mparameters\u001b[0m\u001b[0;34m,\u001b[0m \u001b[0margs\u001b[0m\u001b[0;34m)\u001b[0m\u001b[0;34m}\u001b[0m\u001b[0;34m)\u001b[0m\u001b[0;34m\u001b[0m\u001b[0;34m\u001b[0m\u001b[0m\n\u001b[0;32m---> 73\u001b[0;31m         \u001b[0;32mreturn\u001b[0m \u001b[0mf\u001b[0m\u001b[0;34m(\u001b[0m\u001b[0;34m**\u001b[0m\u001b[0mkwargs\u001b[0m\u001b[0;34m)\u001b[0m\u001b[0;34m\u001b[0m\u001b[0;34m\u001b[0m\u001b[0m\n\u001b[0m\u001b[1;32m     74\u001b[0m     \u001b[0;32mreturn\u001b[0m \u001b[0minner_f\u001b[0m\u001b[0;34m\u001b[0m\u001b[0;34m\u001b[0m\u001b[0m\n\u001b[1;32m     75\u001b[0m \u001b[0;34m\u001b[0m\u001b[0m\n",
      "\u001b[0;32m/opt/anaconda3/lib/python3.8/site-packages/sklearn/utils/validation.py\u001b[0m in \u001b[0;36mcheck_array\u001b[0;34m(array, accept_sparse, accept_large_sparse, dtype, order, copy, force_all_finite, ensure_2d, allow_nd, ensure_min_samples, ensure_min_features, estimator)\u001b[0m\n\u001b[1;32m    597\u001b[0m                     \u001b[0marray\u001b[0m \u001b[0;34m=\u001b[0m \u001b[0marray\u001b[0m\u001b[0;34m.\u001b[0m\u001b[0mastype\u001b[0m\u001b[0;34m(\u001b[0m\u001b[0mdtype\u001b[0m\u001b[0;34m,\u001b[0m \u001b[0mcasting\u001b[0m\u001b[0;34m=\u001b[0m\u001b[0;34m\"unsafe\"\u001b[0m\u001b[0;34m,\u001b[0m \u001b[0mcopy\u001b[0m\u001b[0;34m=\u001b[0m\u001b[0;32mFalse\u001b[0m\u001b[0;34m)\u001b[0m\u001b[0;34m\u001b[0m\u001b[0;34m\u001b[0m\u001b[0m\n\u001b[1;32m    598\u001b[0m                 \u001b[0;32melse\u001b[0m\u001b[0;34m:\u001b[0m\u001b[0;34m\u001b[0m\u001b[0;34m\u001b[0m\u001b[0m\n\u001b[0;32m--> 599\u001b[0;31m                     \u001b[0marray\u001b[0m \u001b[0;34m=\u001b[0m \u001b[0mnp\u001b[0m\u001b[0;34m.\u001b[0m\u001b[0masarray\u001b[0m\u001b[0;34m(\u001b[0m\u001b[0marray\u001b[0m\u001b[0;34m,\u001b[0m \u001b[0morder\u001b[0m\u001b[0;34m=\u001b[0m\u001b[0morder\u001b[0m\u001b[0;34m,\u001b[0m \u001b[0mdtype\u001b[0m\u001b[0;34m=\u001b[0m\u001b[0mdtype\u001b[0m\u001b[0;34m)\u001b[0m\u001b[0;34m\u001b[0m\u001b[0;34m\u001b[0m\u001b[0m\n\u001b[0m\u001b[1;32m    600\u001b[0m             \u001b[0;32mexcept\u001b[0m \u001b[0mComplexWarning\u001b[0m\u001b[0;34m:\u001b[0m\u001b[0;34m\u001b[0m\u001b[0;34m\u001b[0m\u001b[0m\n\u001b[1;32m    601\u001b[0m                 raise ValueError(\"Complex data not supported\\n\"\n",
      "\u001b[0;32m/opt/anaconda3/lib/python3.8/site-packages/numpy/core/_asarray.py\u001b[0m in \u001b[0;36masarray\u001b[0;34m(a, dtype, order)\u001b[0m\n\u001b[1;32m     83\u001b[0m \u001b[0;34m\u001b[0m\u001b[0m\n\u001b[1;32m     84\u001b[0m     \"\"\"\n\u001b[0;32m---> 85\u001b[0;31m     \u001b[0;32mreturn\u001b[0m \u001b[0marray\u001b[0m\u001b[0;34m(\u001b[0m\u001b[0ma\u001b[0m\u001b[0;34m,\u001b[0m \u001b[0mdtype\u001b[0m\u001b[0;34m,\u001b[0m \u001b[0mcopy\u001b[0m\u001b[0;34m=\u001b[0m\u001b[0;32mFalse\u001b[0m\u001b[0;34m,\u001b[0m \u001b[0morder\u001b[0m\u001b[0;34m=\u001b[0m\u001b[0morder\u001b[0m\u001b[0;34m)\u001b[0m\u001b[0;34m\u001b[0m\u001b[0;34m\u001b[0m\u001b[0m\n\u001b[0m\u001b[1;32m     86\u001b[0m \u001b[0;34m\u001b[0m\u001b[0m\n\u001b[1;32m     87\u001b[0m \u001b[0;34m\u001b[0m\u001b[0m\n",
      "\u001b[0;31mValueError\u001b[0m: could not convert string to float: 'Open BTC'"
     ]
    }
   ],
   "source": [
    "pca.fit(crypto100)"
   ]
  },
  {
   "cell_type": "code",
   "execution_count": null,
   "metadata": {},
   "outputs": [],
   "source": []
  },
  {
   "cell_type": "code",
   "execution_count": null,
   "metadata": {},
   "outputs": [],
   "source": []
  },
  {
   "cell_type": "code",
   "execution_count": 14,
   "metadata": {},
   "outputs": [],
   "source": [
    "crypto100 = pd.read_csv('100Crypto')"
   ]
  },
  {
   "cell_type": "code",
   "execution_count": 18,
   "metadata": {},
   "outputs": [
    {
     "data": {
      "text/html": [
       "<div>\n",
       "<style scoped>\n",
       "    .dataframe tbody tr th:only-of-type {\n",
       "        vertical-align: middle;\n",
       "    }\n",
       "\n",
       "    .dataframe tbody tr th {\n",
       "        vertical-align: top;\n",
       "    }\n",
       "\n",
       "    .dataframe thead th {\n",
       "        text-align: right;\n",
       "    }\n",
       "</style>\n",
       "<table border=\"1\" class=\"dataframe\">\n",
       "  <thead>\n",
       "    <tr style=\"text-align: right;\">\n",
       "      <th></th>\n",
       "      <th>Unnamed: 0</th>\n",
       "      <th>2021-09-02</th>\n",
       "      <th>2021-09-03</th>\n",
       "      <th>2021-09-04</th>\n",
       "      <th>2021-09-05</th>\n",
       "      <th>2021-09-06</th>\n",
       "      <th>2021-09-07</th>\n",
       "      <th>2021-09-08</th>\n",
       "      <th>2021-09-09</th>\n",
       "      <th>2021-09-10</th>\n",
       "      <th>...</th>\n",
       "      <th>2021-09-23</th>\n",
       "      <th>2021-09-24</th>\n",
       "      <th>2021-09-25</th>\n",
       "      <th>2021-09-26</th>\n",
       "      <th>2021-09-27</th>\n",
       "      <th>2021-09-28</th>\n",
       "      <th>2021-09-29</th>\n",
       "      <th>2021-09-30</th>\n",
       "      <th>2021-10-01</th>\n",
       "      <th>2021-10-02</th>\n",
       "    </tr>\n",
       "  </thead>\n",
       "  <tbody>\n",
       "    <tr>\n",
       "      <th>0</th>\n",
       "      <td>Open BTC</td>\n",
       "      <td>48840.01</td>\n",
       "      <td>49280.77</td>\n",
       "      <td>50019.51</td>\n",
       "      <td>49935.29</td>\n",
       "      <td>51784.16</td>\n",
       "      <td>52693.32</td>\n",
       "      <td>46856.31</td>\n",
       "      <td>46073.45</td>\n",
       "      <td>46392.85</td>\n",
       "      <td>...</td>\n",
       "      <td>43576.15</td>\n",
       "      <td>44893.87</td>\n",
       "      <td>42848.41</td>\n",
       "      <td>42721.91</td>\n",
       "      <td>43201.79</td>\n",
       "      <td>42187.51</td>\n",
       "      <td>41056.79</td>\n",
       "      <td>41539.43</td>\n",
       "      <td>43829.34</td>\n",
       "      <td>48164.35</td>\n",
       "    </tr>\n",
       "    <tr>\n",
       "      <th>1</th>\n",
       "      <td>High BTC</td>\n",
       "      <td>50374.89</td>\n",
       "      <td>51056.15</td>\n",
       "      <td>50549.35</td>\n",
       "      <td>51890.18</td>\n",
       "      <td>52766.16</td>\n",
       "      <td>52919.24</td>\n",
       "      <td>47362.35</td>\n",
       "      <td>47335.29</td>\n",
       "      <td>47026.67</td>\n",
       "      <td>...</td>\n",
       "      <td>44994.17</td>\n",
       "      <td>45143.18</td>\n",
       "      <td>42992.94</td>\n",
       "      <td>43928.49</td>\n",
       "      <td>44360.41</td>\n",
       "      <td>42781.24</td>\n",
       "      <td>42603.18</td>\n",
       "      <td>44106.60</td>\n",
       "      <td>48470.13</td>\n",
       "      <td>48244.05</td>\n",
       "    </tr>\n",
       "    <tr>\n",
       "      <th>2</th>\n",
       "      <td>Low BTC</td>\n",
       "      <td>48632.70</td>\n",
       "      <td>48362.56</td>\n",
       "      <td>49501.12</td>\n",
       "      <td>49499.28</td>\n",
       "      <td>51035.68</td>\n",
       "      <td>43904.42</td>\n",
       "      <td>44475.76</td>\n",
       "      <td>45572.30</td>\n",
       "      <td>44198.27</td>\n",
       "      <td>...</td>\n",
       "      <td>43108.42</td>\n",
       "      <td>40807.20</td>\n",
       "      <td>41710.08</td>\n",
       "      <td>40825.40</td>\n",
       "      <td>42139.24</td>\n",
       "      <td>40924.13</td>\n",
       "      <td>40790.67</td>\n",
       "      <td>41436.79</td>\n",
       "      <td>43304.82</td>\n",
       "      <td>47468.49</td>\n",
       "    </tr>\n",
       "    <tr>\n",
       "      <th>3</th>\n",
       "      <td>Open ETH</td>\n",
       "      <td>3829.18</td>\n",
       "      <td>3787.70</td>\n",
       "      <td>3939.79</td>\n",
       "      <td>3887.01</td>\n",
       "      <td>3952.33</td>\n",
       "      <td>3928.40</td>\n",
       "      <td>3433.48</td>\n",
       "      <td>3499.69</td>\n",
       "      <td>3424.24</td>\n",
       "      <td>...</td>\n",
       "      <td>3078.88</td>\n",
       "      <td>3154.62</td>\n",
       "      <td>2930.86</td>\n",
       "      <td>2925.34</td>\n",
       "      <td>3064.21</td>\n",
       "      <td>2927.73</td>\n",
       "      <td>2807.44</td>\n",
       "      <td>2850.87</td>\n",
       "      <td>3000.83</td>\n",
       "      <td>3310.63</td>\n",
       "    </tr>\n",
       "    <tr>\n",
       "      <th>4</th>\n",
       "      <td>High ETH</td>\n",
       "      <td>3837.51</td>\n",
       "      <td>4026.86</td>\n",
       "      <td>3969.89</td>\n",
       "      <td>3982.63</td>\n",
       "      <td>3971.74</td>\n",
       "      <td>3947.45</td>\n",
       "      <td>3560.94</td>\n",
       "      <td>3567.91</td>\n",
       "      <td>3513.41</td>\n",
       "      <td>...</td>\n",
       "      <td>3177.43</td>\n",
       "      <td>3160.27</td>\n",
       "      <td>2968.99</td>\n",
       "      <td>3116.40</td>\n",
       "      <td>3166.17</td>\n",
       "      <td>2970.52</td>\n",
       "      <td>2949.74</td>\n",
       "      <td>3048.78</td>\n",
       "      <td>3334.03</td>\n",
       "      <td>3344.49</td>\n",
       "    </tr>\n",
       "  </tbody>\n",
       "</table>\n",
       "<p>5 rows × 32 columns</p>\n",
       "</div>"
      ],
      "text/plain": [
       "  Unnamed: 0  2021-09-02  2021-09-03  2021-09-04  2021-09-05  2021-09-06  \\\n",
       "0   Open BTC    48840.01    49280.77    50019.51    49935.29    51784.16   \n",
       "1   High BTC    50374.89    51056.15    50549.35    51890.18    52766.16   \n",
       "2    Low BTC    48632.70    48362.56    49501.12    49499.28    51035.68   \n",
       "3   Open ETH     3829.18     3787.70     3939.79     3887.01     3952.33   \n",
       "4   High ETH     3837.51     4026.86     3969.89     3982.63     3971.74   \n",
       "\n",
       "   2021-09-07  2021-09-08  2021-09-09  2021-09-10  ...  2021-09-23  \\\n",
       "0    52693.32    46856.31    46073.45    46392.85  ...    43576.15   \n",
       "1    52919.24    47362.35    47335.29    47026.67  ...    44994.17   \n",
       "2    43904.42    44475.76    45572.30    44198.27  ...    43108.42   \n",
       "3     3928.40     3433.48     3499.69     3424.24  ...     3078.88   \n",
       "4     3947.45     3560.94     3567.91     3513.41  ...     3177.43   \n",
       "\n",
       "   2021-09-24  2021-09-25  2021-09-26  2021-09-27  2021-09-28  2021-09-29  \\\n",
       "0    44893.87    42848.41    42721.91    43201.79    42187.51    41056.79   \n",
       "1    45143.18    42992.94    43928.49    44360.41    42781.24    42603.18   \n",
       "2    40807.20    41710.08    40825.40    42139.24    40924.13    40790.67   \n",
       "3     3154.62     2930.86     2925.34     3064.21     2927.73     2807.44   \n",
       "4     3160.27     2968.99     3116.40     3166.17     2970.52     2949.74   \n",
       "\n",
       "   2021-09-30  2021-10-01  2021-10-02  \n",
       "0    41539.43    43829.34    48164.35  \n",
       "1    44106.60    48470.13    48244.05  \n",
       "2    41436.79    43304.82    47468.49  \n",
       "3     2850.87     3000.83     3310.63  \n",
       "4     3048.78     3334.03     3344.49  \n",
       "\n",
       "[5 rows x 32 columns]"
      ]
     },
     "execution_count": 18,
     "metadata": {},
     "output_type": "execute_result"
    }
   ],
   "source": [
    "crypto100.head()"
   ]
  },
  {
   "cell_type": "markdown",
   "metadata": {},
   "source": [
    "### Creating  datasets with pair USD-CRYPTOCURRENCY"
   ]
  },
  {
   "cell_type": "code",
   "execution_count": null,
   "metadata": {},
   "outputs": [],
   "source": [
    "CryptoDict = ['BTC', 'ETH', 'ATOM', 'AVAX', 'XRP','ADA', 'SOL', 'DOT', 'FIL', 'LUNA', \n",
    "              'LINK', 'BNB', 'XTZ','LTC','FTT', 'TRX', 'DOGE', 'CELR', 'BCH', 'EOS',\n",
    "              'FTM', 'OMG', 'ALGO', 'COTI', 'ETC', 'DYDX', 'OKB', 'CELO', 'MATIC',\n",
    "             'SAND', '1INCH', 'ZIL', 'REP', 'ELF', 'MTL', 'LSK', 'DENT','CVC','AR',\n",
    "             'ACH', 'XEM', 'WBTC', 'ICX', 'BAT', 'ZEN', 'ZRX', 'RSR', 'LTO', 'UTK',\n",
    "             'XMR', 'IOST', 'MLN', 'VET', 'SRM', 'JST', 'HBAR', 'NEAR', 'AXS', 'SUSHI',\n",
    "             'MKR', 'QTUM', 'EGLD', 'ZEC', 'DASH', 'REN', 'NEO', 'KAVA', 'FET', 'CHZ',\n",
    "             'CRV', 'RVN', 'GRT', 'NULS', 'SHIB', 'MANA', 'AAVE', 'KSM', 'CAKE', 'MIOTA',\n",
    "             'FLOW', 'ONT', 'RUNE', 'ENJ', 'WAVES', 'ROSE', 'SXP', 'SNX', 'COMP', 'YFI',\n",
    "             'ONE', 'IOTX', 'UNI', 'HT', 'BTT', 'XLM', 'BSV', 'THETA', 'ICP', 'PUNDIX']\n",
    "USD = 'USD'\n"
   ]
  },
  {
   "cell_type": "code",
   "execution_count": null,
   "metadata": {},
   "outputs": [],
   "source": [
    "i = 0\n",
    "dfCrypto = pd.DataFrame()\n",
    "for i in range(len(CryptoDict)):\n",
    "    data1 = PairData(CryptoDict[i],'USD',lastDay, 30, 'CCCAGG')\n",
    "    dfCrypto = dfCrypto.append(data1, ignore_index=False)\n",
    "    i+=1"
   ]
  },
  {
   "cell_type": "code",
   "execution_count": null,
   "metadata": {},
   "outputs": [],
   "source": [
    "dfCrypto.shape"
   ]
  },
  {
   "cell_type": "code",
   "execution_count": null,
   "metadata": {},
   "outputs": [],
   "source": [
    "#dfCrypto.to_csv('100Crypto')"
   ]
  },
  {
   "cell_type": "code",
   "execution_count": null,
   "metadata": {},
   "outputs": [],
   "source": []
  }
 ],
 "metadata": {
  "kernelspec": {
   "display_name": "Python 3",
   "language": "python",
   "name": "python3"
  },
  "language_info": {
   "codemirror_mode": {
    "name": "ipython",
    "version": 3
   },
   "file_extension": ".py",
   "mimetype": "text/x-python",
   "name": "python",
   "nbconvert_exporter": "python",
   "pygments_lexer": "ipython3",
   "version": "3.8.3"
  }
 },
 "nbformat": 4,
 "nbformat_minor": 4
}
